{
 "cells": [
  {
   "cell_type": "code",
   "execution_count": 13,
   "metadata": {},
   "outputs": [],
   "source": [
    "import xlrd\n",
    "import json\n",
    "import io\n",
    "from collections import OrderedDict"
   ]
  },
  {
   "cell_type": "code",
   "execution_count": 14,
   "metadata": {},
   "outputs": [],
   "source": [
    "file = 'sample.xls'"
   ]
  },
  {
   "cell_type": "code",
   "execution_count": 15,
   "metadata": {},
   "outputs": [],
   "source": [
    "# USER DEFINED DICTIONARY VALUES \n",
    "output = {\n",
    "    \"First Name\":\"Jatin\",\n",
    "    \"Last Name\":\"Chauhan\",\n",
    "    \"Age\":\"20\"\n",
    "}"
   ]
  },
  {
   "cell_type": "code",
   "execution_count": 16,
   "metadata": {},
   "outputs": [],
   "source": [
    "# FUNCTION TO READ FROM EXCEL\n",
    "def readRows(file, s_index=0, franchise=\"\"):\n",
    "    \n",
    "    d = {franchise : OrderedDict()}\n",
    "    wb = xlrd.open_workbook(file)  \n",
    "    sheet = wb.sheet_by_index(s_index)\n",
    "    \n",
    "    data = [[sheet.cell_value(r, c) for c in range(sheet.ncols)] for r in range(sheet.nrows)]\n",
    "    \n",
    "    \n",
    "    for _,row in enumerate(data[3:]):\n",
    "        if row[1]: \n",
    "            cat = row[1]\n",
    "            d[franchise][cat] = {}\n",
    "        if cat:  \n",
    "            j,a,t,i,n = row[3::2][:5] \n",
    "            if i or e or a or z or x:  \n",
    "                val = OrderedDict([(\"module_config_path\", j),(\"module_template_path\", a),(\"module_exec_script_path\", t), (\"module_type\", i), (\"pyspark_opts\", n)])\n",
    "                d[franchise][cat].update(val)\n",
    "    \n",
    "    output.update(**d)\n",
    "    \n",
    "    return d"
   ]
  },
  {
   "cell_type": "code",
   "execution_count": 17,
   "metadata": {},
   "outputs": [],
   "source": []
  },
  {
   "cell_type": "code",
   "execution_count": null,
   "metadata": {},
   "outputs": [],
   "source": [
    "if __name__ == \"__main__\":\n",
    "    d_onc = readRows(file,0,\"mabi_onc\")\n",
    "    output.update(**d_onc)\n",
    "    d_imm = readRows(file,1,\"mabi_imm\")\n",
    "    output.update(**d_imm)\n",
    "    d_pert = readRows(file,2,\"mabi_pert\")\n",
    "    output.update(**d_pert)\n",
    "    d_endo = readRows(file,3,\"mabi_endo\")\n",
    "    output.update(**d_endo)\n",
    "    with io.open('dl_environment_parameters.json','w',encoding='utf8') as out:\n",
    "        out.write(json.dumps(output,indent=2,ensure_ascii=False))"
   ]
  }
 ],
 "metadata": {
  "kernelspec": {
   "display_name": "Python 3",
   "language": "python",
   "name": "python3"
  },
  "language_info": {
   "codemirror_mode": {
    "name": "ipython",
    "version": 3
   },
   "file_extension": ".py",
   "mimetype": "text/x-python",
   "name": "python",
   "nbconvert_exporter": "python",
   "pygments_lexer": "ipython3",
   "version": "3.6.4"
  }
 },
 "nbformat": 4,
 "nbformat_minor": 2
}
