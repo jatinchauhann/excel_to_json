{
 "cells": [
  {
   "cell_type": "markdown",
   "metadata": {},
   "source": [
    "IMPORTS"
   ]
  },
  {
   "cell_type": "code",
   "execution_count": 7,
   "metadata": {},
   "outputs": [],
   "source": [
    "# IMPORTS\n",
    "import xlrd\n",
    "import json\n",
    "import io\n",
    "from collections import OrderedDict"
   ]
  },
  {
   "cell_type": "code",
   "execution_count": 8,
   "metadata": {},
   "outputs": [],
   "source": [
    "# FUNCTION TO READ FROM EXCEL\n",
    "def readRows(file, s_index=0, franchise=\"\"):\n",
    "    \n",
    "    d = {franchise : OrderedDict()}\n",
    "    wb = xlrd.open_workbook(file)  \n",
    "    sheet = wb.sheet_by_index(s_index)\n",
    "    \n",
    "    data = [[sheet.cell_value(r, c) for c in range(sheet.ncols)] for r in range(sheet.nrows)]\n",
    "    \n",
    "    \n",
    "    for _,row in enumerate(data[3:]):\n",
    "        if row[1]: \n",
    "            cat = row[1]\n",
    "            d[franchise][cat] = {}\n",
    "        if cat:  \n",
    "            j,a,t,i,n = row[3::2][:5] \n",
    "            if i or e or a or z or x:  \n",
    "                val = OrderedDict([(\"module_config_path\", j),(\"module_template_path\", a),(\"module_exec_script_path\", t), (\"module_type\", i), (\"pyspark_opts\", n)])\n",
    "                d[franchise][cat].update(val)\n",
    "    \n",
    "    output.update(**d)\n",
    "    \n",
    "    return d"
   ]
  },
  {
   "cell_type": "code",
   "execution_count": 10,
   "metadata": {},
   "outputs": [],
   "source": [
    "if __name__ == \"__main__\":\n",
    "    \n",
    "    # NAME OF THE FILE TO IMPORT\n",
    "    file = 'sample.xls'\n",
    "    \n",
    "    # USER DEFINED DICTIONARY VALUES JUST IN CASE YOU NEED THEM\n",
    "    output = {\n",
    "        \"First Name\":\"Jatin\",\n",
    "        \"Last Name\":\"Chauhan\",\n",
    "        \"Age\":\"20\"\n",
    "    }\n",
    "\n",
    "    # READING FROM EXCEL & DESCRIBING THE PARENT NAME\n",
    "    d_school = readRows(file,0,\"School\")\n",
    "    #UPDATING THE DICTIONARY WITH THE VALUES\n",
    "    output.update(**d_school)\n",
    "    \n",
    "    \n",
    "    d_college = readRows(file,1,\"College\")\n",
    "    output.update(**d_college)\n",
    "   \n",
    "    # OUTPUT FILE NAME\n",
    "    with io.open('output.json','w',encoding='utf8') as out:\n",
    "        out.write(json.dumps(output,indent=2,ensure_ascii=False))"
   ]
  },
  {
   "cell_type": "code",
   "execution_count": null,
   "metadata": {},
   "outputs": [],
   "source": []
  }
 ],
 "metadata": {
  "kernelspec": {
   "display_name": "Python 3",
   "language": "python",
   "name": "python3"
  },
  "language_info": {
   "codemirror_mode": {
    "name": "ipython",
    "version": 3
   },
   "file_extension": ".py",
   "mimetype": "text/x-python",
   "name": "python",
   "nbconvert_exporter": "python",
   "pygments_lexer": "ipython3",
   "version": "3.6.4"
  }
 },
 "nbformat": 4,
 "nbformat_minor": 2
}
